{
 "cells": [
  {
   "cell_type": "code",
   "execution_count": 1,
   "id": "initial_id",
   "metadata": {
    "collapsed": true,
    "ExecuteTime": {
     "end_time": "2023-10-03T20:19:00.318300500Z",
     "start_time": "2023-10-03T20:18:54.611104600Z"
    }
   },
   "outputs": [],
   "source": [
    "import openai\n",
    "import os\n",
    "import pandas as pd\n",
    "import time\n",
    "from dotenv import load_dotenv\n",
    "import dotenv"
   ]
  },
  {
   "cell_type": "code",
   "execution_count": 2,
   "outputs": [],
   "source": [
    "from dataclasses import dataclass\n",
    "\n",
    "\n",
    "@dataclass\n",
    "class ChatMessage:\n",
    "    role: str\n",
    "    content: str\n",
    "\n",
    "    def __str__(self):\n",
    "        return f\"{self.role}: {self.content}\""
   ],
   "metadata": {
    "collapsed": false,
    "ExecuteTime": {
     "end_time": "2023-10-03T20:19:00.330298100Z",
     "start_time": "2023-10-03T20:19:00.318300500Z"
    }
   },
   "id": "dd6dd66a943bddec"
  },
  {
   "cell_type": "code",
   "execution_count": null,
   "outputs": [],
   "source": [],
   "metadata": {
    "collapsed": false
   },
   "id": "9a7a1983ed57b27c"
  },
  {
   "cell_type": "code",
   "execution_count": 6,
   "outputs": [],
   "source": [
    "# a class for openai chatbot\n",
    "class OpenAICHatBot:\n",
    "    def __init__(self, model=\"gpt-3.5-turbo\"):\n",
    "        load_dotenv()\n",
    "        self.api_key = os.getenv(\"OPENAI_API_KEY\")\n",
    "        self.organization = os.getenv(\"OPENAI_API_ORGANIZATION\")\n",
    "        openai.api_key = self.api_key\n",
    "        openai.organization = self.organization\n",
    "        self.model = model\n",
    "\n",
    "    def get_completion(\n",
    "        self, messages: ChatMessage, max_tokens=150, stop=None, temperature=1, n=1\n",
    "    ):\n",
    "        \"\"\"\n",
    "        Get completion from openai chatbot\n",
    "        \"\"\"\n",
    "        messages = [\n",
    "            {\"role\": message.role, \"content\": message.content} for message in messages\n",
    "        ]\n",
    "        response = openai.ChatCompletion.create(\n",
    "            model=self.model,\n",
    "            messages=messages,\n",
    "            max_tokens=max_tokens,\n",
    "            n=n,\n",
    "            stop=stop,\n",
    "            temperature=temperature,\n",
    "        )\n",
    "        # response looks like the following:\n",
    "        # {\n",
    "        #   \"id\": \"chatcmpl-84vH94r4LLU6q4P8tzz8GkhAoHiBo\",\n",
    "        #   \"object\": \"chat.completion\",\n",
    "        #   \"created\": 1696184171,\n",
    "        #   \"model\": \"gpt-3.5-turbo-0613\",\n",
    "        #   \"choices\": [\n",
    "        #       {\n",
    "        #       \"index\": 0,\n",
    "        #       \"message\": {\n",
    "        #           \"role\": \"assistant\",\n",
    "        #           \"content\": \"The Los Angeles Dodgers won the World Series in 2020.\"\n",
    "        #       },\n",
    "        #       \"finish_reason\": \"stop\"\n",
    "        #       }\n",
    "        #   ],\n",
    "        #   \"usage\": {\n",
    "        #       \"prompt_tokens\": 17,\n",
    "        #       \"completion_tokens\": 13,\n",
    "        #       \"total_tokens\": 30\n",
    "        #   }\n",
    "        # }\n",
    "        # finish reason is usually stop. It can be 'length', 'content_filter' or 'function_call'\n",
    "        # role for the request can be one of the following: 'system', 'user', 'assistant', 'function'\n",
    "        return response"
   ],
   "metadata": {
    "collapsed": false,
    "ExecuteTime": {
     "end_time": "2023-10-03T20:20:05.070826300Z",
     "start_time": "2023-10-03T20:20:05.047566100Z"
    }
   },
   "id": "2f00f31a9dd23fc0"
  },
  {
   "cell_type": "code",
   "execution_count": 7,
   "outputs": [],
   "source": [
    "messages = [\n",
    "    ChatMessage(role=\"system\", content='Response with \"Hello\" to any message'),\n",
    "    ChatMessage(role=\"user\", content=\"Say something\"),\n",
    "]\n",
    "\n",
    "chat = OpenAICHatBot()\n",
    "response = chat.get_completion(messages)"
   ],
   "metadata": {
    "collapsed": false,
    "ExecuteTime": {
     "end_time": "2023-10-03T20:20:09.305511900Z",
     "start_time": "2023-10-03T20:20:07.614109900Z"
    }
   },
   "id": "f0cfb8ba4f017af4"
  },
  {
   "cell_type": "code",
   "execution_count": 8,
   "outputs": [
    {
     "data": {
      "text/plain": "'Hello! How can I assist you today?'"
     },
     "execution_count": 8,
     "metadata": {},
     "output_type": "execute_result"
    }
   ],
   "source": [
    "response.choices[0].message.content"
   ],
   "metadata": {
    "collapsed": false,
    "ExecuteTime": {
     "end_time": "2023-10-03T20:20:12.140591600Z",
     "start_time": "2023-10-03T20:20:12.116580200Z"
    }
   },
   "id": "741b263a03864fe"
  },
  {
   "cell_type": "code",
   "execution_count": 21,
   "outputs": [],
   "source": [
    "response = openai.ChatCompletion.create(\n",
    "    model=\"gpt-3.5-turbo\",\n",
    "    messages=[\n",
    "        {\"role\": \"system\", \"content\": \"You are a helpful assistant.\"},\n",
    "        {\"role\": \"user\", \"content\": \"Who won the world series in 2020?\"},\n",
    "        {\n",
    "            \"role\": \"assistant\",\n",
    "            \"content\": \"The Los Angeles Dodgers won the World Series in 2020.\",\n",
    "        },\n",
    "        {\"role\": \"user\", \"content\": \"Where was it played?\"},\n",
    "    ],\n",
    ")"
   ],
   "metadata": {
    "collapsed": false,
    "ExecuteTime": {
     "end_time": "2023-10-01T18:26:32.422878900Z",
     "start_time": "2023-10-01T18:26:30.496330500Z"
    }
   },
   "id": "60b10127005d24bd"
  },
  {
   "cell_type": "code",
   "execution_count": 22,
   "outputs": [
    {
     "data": {
      "text/plain": "<OpenAIObject chat.completion id=chatcmpl-84vQvVrQcSuQyr4dMSseSbEStUi7M at 0x1e9009a1ad0> JSON: {\n  \"id\": \"chatcmpl-84vQvVrQcSuQyr4dMSseSbEStUi7M\",\n  \"object\": \"chat.completion\",\n  \"created\": 1696184777,\n  \"model\": \"gpt-3.5-turbo-0613\",\n  \"choices\": [\n    {\n      \"index\": 0,\n      \"message\": {\n        \"role\": \"assistant\",\n        \"content\": \"The 2020 World Series was played at Globe Life Field in Arlington, Texas.\"\n      },\n      \"finish_reason\": \"stop\"\n    }\n  ],\n  \"usage\": {\n    \"prompt_tokens\": 53,\n    \"completion_tokens\": 17,\n    \"total_tokens\": 70\n  }\n}"
     },
     "execution_count": 22,
     "metadata": {},
     "output_type": "execute_result"
    }
   ],
   "source": [
    "response"
   ],
   "metadata": {
    "collapsed": false,
    "ExecuteTime": {
     "end_time": "2023-10-01T18:26:36.431767200Z",
     "start_time": "2023-10-01T18:26:36.384672500Z"
    }
   },
   "id": "f748f86129de31c3"
  }
 ],
 "metadata": {
  "kernelspec": {
   "display_name": "Python 3",
   "language": "python",
   "name": "python3"
  },
  "language_info": {
   "codemirror_mode": {
    "name": "ipython",
    "version": 2
   },
   "file_extension": ".py",
   "mimetype": "text/x-python",
   "name": "python",
   "nbconvert_exporter": "python",
   "pygments_lexer": "ipython2",
   "version": "2.7.6"
  }
 },
 "nbformat": 4,
 "nbformat_minor": 5
}
